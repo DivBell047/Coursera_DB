{
 "cells": [
  {
   "cell_type": "markdown",
   "id": "301bec02",
   "metadata": {},
   "source": [
    "# Data Science Tools and Ecosystem"
   ]
  },
  {
   "cell_type": "markdown",
   "id": "03cf9b23",
   "metadata": {},
   "source": [
    "In this notebook, Data Science Tools and Ecosystem are summarized."
   ]
  },
  {
   "cell_type": "markdown",
   "id": "12d4a94c",
   "metadata": {},
   "source": [
    "**Objectives:**\n",
    "* List popular languages for Data Science\n",
    "* Learn about the libraries used in Data Science\n",
    "* Know about different Data Science Tools\n",
    "* Evaluate Arithmetic Expressions through code"
   ]
  },
  {
   "cell_type": "markdown",
   "id": "d3d13a2e",
   "metadata": {},
   "source": [
    "Some of the popular languages that Data Scientists use are:\n",
    "1. Python\n",
    "2. R \n",
    "3. Julia "
   ]
  },
  {
   "cell_type": "markdown",
   "id": "bc4d355b",
   "metadata": {},
   "source": [
    "Some of the commonly used libraries used by Data Scientists include:\n",
    "1. Pandas\n",
    "2. NumPy\n",
    "3. Scikit-Learn\n",
    "4. TensorFlow"
   ]
  },
  {
   "cell_type": "markdown",
   "id": "644285e6",
   "metadata": {},
   "source": [
    "| Data Science Tools |\n",
    "| :-----------------:|\n",
    "| Jupyter Notebooks  |\n",
    "| RStudio            |\n",
    "| KNIME              | "
   ]
  },
  {
   "cell_type": "markdown",
   "id": "de202ba8",
   "metadata": {},
   "source": [
    "### Below are a few examples of evaluating arithmetic expressions in Python"
   ]
  },
  {
   "cell_type": "code",
   "execution_count": 9,
   "id": "e6573e63",
   "metadata": {},
   "outputs": [
    {
     "name": "stdout",
     "output_type": "stream",
     "text": [
      "17\n"
     ]
    }
   ],
   "source": [
    "# This a simple arithmetic expression to mutiply then add integers\n",
    "print((3*4)+5)"
   ]
  },
  {
   "cell_type": "code",
   "execution_count": 8,
   "id": "5a7ba798",
   "metadata": {},
   "outputs": [
    {
     "name": "stdout",
     "output_type": "stream",
     "text": [
      "200 minutes are 3.3333333333333335 hours\n"
     ]
    }
   ],
   "source": [
    "# This will convert 200 minutes to hours by diving by 60\n",
    "print(\"200 minutes are\", 200/60, \"hours\")"
   ]
  },
  {
   "cell_type": "markdown",
   "id": "02d07f0d",
   "metadata": {},
   "source": [
    "## Author\n",
    "Diviyaj"
   ]
  },
  {
   "cell_type": "code",
   "execution_count": null,
   "id": "f42b0ce8",
   "metadata": {},
   "outputs": [],
   "source": []
  }
 ],
 "metadata": {
  "kernelspec": {
   "display_name": "Python 3 (ipykernel)",
   "language": "python",
   "name": "python3"
  },
  "language_info": {
   "codemirror_mode": {
    "name": "ipython",
    "version": 3
   },
   "file_extension": ".py",
   "mimetype": "text/x-python",
   "name": "python",
   "nbconvert_exporter": "python",
   "pygments_lexer": "ipython3",
   "version": "3.10.9"
  }
 },
 "nbformat": 4,
 "nbformat_minor": 5
}
